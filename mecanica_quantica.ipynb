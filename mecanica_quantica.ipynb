{
 "cells": [
  {
   "cell_type": "markdown",
   "metadata": {},
   "source": [
    "<h2 align=\"center\">Mecânica Quântica/\"Física Quântica\"</h2>"
   ]
  },
  {
   "cell_type": "markdown",
   "metadata": {},
   "source": [
    "<h3>Radiação de Corpo Negro</h3>\n",
    "<p align=\"justify\">Com os trabalhos de Maxwell ficou estabelecido que a luz se tratava de uma onda eletromagnética consolidando os estudos do eletromagnetismo.\n",
    "Junto com a termodinâmica, o eletromagnetismo por muito tempo foi considerado uma das teorias Físicas mais bem estabelecidas na ciência.\n",
    "Porém no final do século XIX existia um problema físico que até então parecia sem solução, o nome desse problema era “radiação de corpo negro”.\n",
    "</p>\n",
    "<img src=\"./radiacao_de_corpo_negro.jpg\">"
   ]
  },
  {
   "cell_type": "markdown",
   "metadata": {},
   "source": [
    "<p align=\"justify\">O que é um corpo negro? Um corpo negro é um corpo que emite radiação eletromagnética de frequência proporcional a sua temperatura. A radiação é sempre absorvida ou emitida, mas nunca refletida. Como o problema do corpo negro envolve radiação eletromagnética e temperatura, tonou-se necessário a junção das teorias do eletromagnetismo e da termodinâmica para entender o por que de um corpo mudar de cor por conta da emissão de radiação quando aquecido.</p>"
   ]
  },
  {
   "cell_type": "markdown",
   "metadata": {},
   "source": [
    "<p align=\"justify\">No final do século XIX dados experimentais mostraram que um corpo negro poderia emitir radiação em quantidades específicas que iriam variar de acordo com a temperatura.\n",
    "Até então não existia nenhuma teoria matemática que pudesse explicar a variação da radiação de um corpo negro de acordo com a temperatura.</p>"
   ]
  },
  {
   "cell_type": "markdown",
   "metadata": {},
   "source": [
    "<h3>Duas Teorias Conseguiram Destaque na Época para Tentar Explicar este Fenômeno</h3>"
   ]
  },
  {
   "cell_type": "markdown",
   "metadata": {},
   "source": [
    "<h4>Wilhelm Wien</h4>\n",
    "<img src=\"wilhelm_wien.jpg\">\n",
    "<p align=\"justify\">A primeira tentativa de explicar a radiação de corpo negro foi com a teoria do Físico Wilhelm Wien que calculava a interação das partículas com a energia gerada a partir do ultravioleta, esse modelo conseguia explicar muito bem a emissão de radiação no espectro do ultravioleta mas falhava quando aplicado ao infravermelho.</p>"
   ]
  },
  {
   "cell_type": "markdown",
   "metadata": {},
   "source": [
    "<h4>O Modelo de Rayleigh e Jeans e a <u>Catástrofe do Ultravioleta</u></h4>\n",
    "<img src=\"rayleigh_e_jeans.jpg\">\n",
    "<p align=\"justify\">Uma segunda tentativa de explicar a radiação de corpo negro veio com os Físicos Rayleigh e Jeans que criaram uma teoria matemática que prometia resolver o problema a partir da interação de partículas com energias do espectro infravermelho. Muita expectativa foi gerada até que o teste de experimentação foi considerado uma catástrofe pela decepção nos resultados. A teoria explicava muito bem o espectro do infravermelho em baixas frequências, mas tendia ao infinito a medida que se aproximava do espectro ultravioleta com frequências mais altas não se adaptando aos resultados experimentais observados. Por isso o experimento ficou conhecido como a <u>catástrofe do ultravioleta</u>.</p>\n",
    "<p align=\"justify\">O modelo previa que conforme a temperatura aumentasse a frequência também deveria aumentar, porém os experimentos indicavam que ao aumentar a temperatura a frequência diminuía. O modelo de  Rayleigh e Jeans não considerava a conservação de energia indicando que conforme a frequência aumentasse o corpo emitiria cada vez mais radiação tendendo ao infinito. Isso violava completamente um dos mais impostantes princípios da Física que é o princípio da conservação de energia.</p>"
   ]
  },
  {
   "cell_type": "markdown",
   "metadata": {},
   "source": [
    "<h3>Max Planck e o Modelo da Energia Quantizada</h3>\n",
    "<img src=\"max_planck.jpg\">\n",
    "<p align=\"justify\">O modelo teórico de Planck propôs que os elétrons responsáveis por gerarem a radiação de um corpo negro só se movimentariam ao receberem uma quantidade fixa mínima de energia e não com uma quantidade qualquer de energia recebida como nos modelos anteriores. Essa quantidade mínima de energia ou quantização ficou conhecida como “quanta” (no plural para várias interações entre partículas) e “quantum” (no singular para uma única interação específica). Quando o modelo de Planck foi aplicado experimentalmente os resultados observados foram muito próximos dos resultados calculados e a partir deste momento surge a Física da Mecânica Quântica, um novo campo de estudo para estudar o comportamento de partículas a nível atômico na geração do “quantum” de energia.</p>\n",
    "<img src=\"comparacao.jpg\">"
   ]
  },
  {
   "cell_type": "markdown",
   "metadata": {},
   "source": [
    "<h3>A Constante de Planck</h3>\n",
    "<p align=\"justify\">Planck supôs que a energia restante emitida pela diferença da energia total da partícula ativa e a energia mínima necessária exigida para que a partícula passiva se movimenta-se deveria ser quantizada em quantidades discretas representadas por múltiplos de um número fixo que foi representado pela letra “h” e mais tarde nomeado de Constante de Planck. Ou seja, a energia resultante da interação entre partículas subatômicas e expressa na velocidade de movimentação da partícula passiva seria sempre um múltiplo de uma constante energética, por exemplo E, 2E, 3E… e etc.</p>\n",
    "<p align=\"justify\">Essa regra da emissão quantizada de energia em múltiplos inteiros de uma constante resultante da interação entre partículas subatômicas é conhecida como <b>Lei de Planck</b> e expressa pela seguinte fórmula:</p>\n",
    "<img src=\"lei_de_planck.jpg\">\n",
    "<p laign=\"justify\">Onde <b>E1</b> e <b>E2</b> são os níveis de energia total e mínima, <b>h</b> é a constante de Planck e <b>v (ni)</b> é a frequência da onda eletromagnética.</p>"
   ]
  },
  {
   "cell_type": "markdown",
   "metadata": {},
   "source": [
    "<h3>Albert Einstein e o Efeito Fotoelétrico</h3>\n",
    "<img src=\"albert_einstein.jpg\">\n",
    "<p align=\"justify\">Os cientistas haviam constatado que ao direcionar luz em uma chapa metálica essa chapa metálica libera elétrons. Porém isso não acontecia com a luz vermelha quando direcionada a determinados metais mesmo que a intensidade da luz fosse aumentada, e ninguém entendia o motivo. Mas ao se utilizar a luz azul mesmo que essa luz fosse de fraca intensidade os elétrons eram ejetados. A mesma coisa acontecia com luzes mais fracas com ondas de maior frequência como o violeta ou o ultravioleta que também desprendiam elétrons da chapa metálica ainda que com luzes de intensidade fraca.</p>\n",
    "<p align=\"justify\">Ninguém conseguia explicar este fenômeno até que Albert Einstein resolveu utilizar a ideia da quantização de Max Planck para estudar o fenômeno. Einstein então decidiu tratar a luz não como uma onda como dizia Maxwell mas como uma partícula corpuscular que mais tarde seria chamada de fóton. Quanto maior o desvio para o ultravioleta maior seria a energia, dessa forma Einstein concluiu que os elétrons só seriam desprendidos da chapa metálica se recebessem uma energia mínima quantizada correspondente (chamada de função trabalho), essa energia mínima era a mesma energia mínima calculada por Planck na radiação de corpo negro.</p>\n",
    "<p align=\"justify\">A teoria de Einstein foi provada experimentalmente comprovando a quantização de Planck, o que rendeu o Prêmio Nobel de Física para Einstein e Max Planck pelos estudos da quantização de energia mínima no Efeito Fotoelétrico provando que a Mecânica Quântica de fato era real. A partir desse momento a luz passou a ser tratada também como partícula e não somente como onda e a Mecânica Quântica se popularizou.</p>"
   ]
  },
  {
   "cell_type": "markdown",
   "metadata": {},
   "source": [
    "<h3>Efeito Fotoelétrico com Física Computacional</h3>"
   ]
  },
  {
   "cell_type": "code",
   "execution_count": 2,
   "metadata": {},
   "outputs": [
    {
     "name": "stdout",
     "output_type": "stream",
     "text": [
      "efeito fotoelétrico simulado com sucesso\n"
     ]
    }
   ],
   "source": [
    "from Neuraline.ComputationalPhysics.photoelectric_effect import PhotoelectricEffect\n",
    "photoelectric_effect = PhotoelectricEffect()\n",
    "result = photoelectric_effect.run(\n",
    "    wavelength=560, # comprimento de onda da luz gerada pela fonte\n",
    "    light_intensity=1 # intensidade da luz gerada pela fonte\n",
    ")\n",
    "if result: print('efeito fotoelétrico simulado com sucesso')\n",
    "else: print('erro ao simular o efeito fotoelétrico')"
   ]
  },
  {
   "cell_type": "markdown",
   "metadata": {},
   "source": [
    "<h3>O Princípio da Complementaridade de Niels Bohr</h3>\n",
    "<img src=\"niels_bohr.jpg\">\n",
    "<p align=\"justify\">O Físico Thomas Young havia comprovado em 1800 com o <b>Experimento da Dupla Fenda</b> que a luz se tratava de uma onda. Na mesma década Maxwell formulou a teoria das ondas eletromagnéticas com base nas observações de Thomas Young.</p>\n",
    "<img src=\"dupla_fenda.jpg\">\n",
    "<h4>Dualidade Onda-Partícula</h4>\n",
    "<p align=\"justify\">A principal característica de uma onda é a frequência (medida em Hertz, Hz) que define quantos picos dessa onda irão atravessar um determinado ponto em 1 segundo. Outra importante característica das ondas é que elas não possuem massa. As ondas também não possuem uma localidade específica no espaço e se espalham por todo o ambiente. Por não possuírem massa as ondas não colidem, em vez disso sofrem interferência. Porém com a comprovação do Efeito Fotoelétrico de Einstein que tratava a luz como partícula foi levantada uma grande dúvida: afinal a luz é uma onda ou uma partícula?</p>\n",
    "<p align=\"justify\">O Físico Arthur Compton havia provado que partes de uma onda de luz poderiam colidir e empurrar partículas como se também fossem partículas e ainda assim possuírem características de onda, o que levantou ainda mais discussão sobre o tema. Essa dúvida era tão importante para a época que se tornou o principal assunto da Conferência de Solvay que reuniu as maiores mentes científicas para tentar encontrar uma solução que chegasse a uma resposta definitiva sobre a real natureza da luz.</p>\n",
    "<img src=\"conferencia_solvay.jpg\">\n",
    "<p align=\"justify\">Foi na Conferência de Solvay que Bohr elaborou o <b>Princípio da Complementaridade</b> e chegou a conclusão de que a luz não era nem onda e nem partícula, mas as duas coisas ao mesmo tempo e a nossa tentativa de tentar classificá-la como uma coisa ou outra era na verdade uma abstração humana da nossa necessidade em tentar entender a natureza por meio de características que podemos compreender, porém a natureza não se importa com as nossas abstrações ou se somos capazes de entendê-la ou não, ela simplesmente é o que ela é. O <b>Princípio da Complementaridade</b> de Bohr estabelece que a única coisa capaz de definir se a luz será onda ou partícula é o experimento.</p>"
   ]
  },
  {
   "cell_type": "markdown",
   "metadata": {},
   "source": [
    "<h3>As Ondas de Matéria de Louis de Broglie</h3>\n",
    "<img src=\"de_broglie.jpg\">\n",
    "<p align=\"justify\">O Físico e Historiador Francês Louis de Broglie foi o primeiro a propor a ideia de que se ondas poderiam se comportar como partículas, talvez as partículas a nível quântico também pudessem se comportar como onda. A hipótese de Louis de Broglie  mais tarde seria provada através de experimentações com a difração do elétron quando disparado contra cristais o que lhe renderia o Prêmio Nobel de Física pela descoberta.</p>"
   ]
  },
  {
   "cell_type": "markdown",
   "metadata": {},
   "source": [
    "<h3>A Equação de Schrödinger</h3>\n",
    "<img src=\"erwin_schrodinger.jpg\">\n",
    "<p align=\"justify\">Em 1925 o Físico Austríaco Erwin Schrödinger baseado na descoberta de Louis de Broglie cria uma equação diferencial para descrever o comportamento ondulatório do elétron descrevendo a matéria como uma função de onda.</p>"
   ]
  },
  {
   "cell_type": "markdown",
   "metadata": {},
   "source": [
    "<h3>O Princípio da Incerteza de Heisenberg</h3>\n",
    "<img src=\"werner_heisenberg.jpg\">\n",
    "<p align=\"justify\">Em 1927 o Físico Alemão Werner Heisenberg cria um postulado matemático que se tornaria um dos pilares da Mecânica Quântica usado para medir um elétron através da sua função de onda descoberta por Schrödinger. Este princípio tem como objetivo determinar a posição e a velocidade de um elétron, porém ao se aumentar a precisão de medição na posição perde-se proporcionalmente a precisão de velocidade e ao se aumentar a precisão de medição na velocidade perde-se proporcionalmente a precisão da posição. Logo não é possível ter certeza quanto a posição e a velocidade de uma partícula subatômica ao mesmo tempo, essa incerteza na medição ficou conhecida como Princípio da Incerteza de Heisenberg.</p>"
   ]
  },
  {
   "cell_type": "markdown",
   "metadata": {},
   "source": [
    "<h3>A Interpretação de Copenhague</h3>\n",
    "<p align=\"justify\">A Interpretação de Copenhague é a interpretação mais aceita da Mecânica Quântica na comunidade científica e foi desenvolvida por Niels Bohr e Werner Heisenberg quando trabalhavam juntos em Copenhague (capital da Dinamarca) em 1927. Essa interpretação leva em consideração a equação da função de onda de Schrödinger e o Princípio da Incerteza de Heisenberg que induzem que enquanto uma partícula subatômica não for medida ela existirá probabilisticamente em todos os estados possíveis ao mesmo tempo. </p>"
   ]
  },
  {
   "cell_type": "markdown",
   "metadata": {},
   "source": [
    "<h3>O Gato de Schrödinger</h3>\n",
    "<img src=\"gato_de_schrodinger.jpg\">\n",
    "<p align=\"justify\">O Gato de Schrödinger é um experimento imaginário para explicar a Interpretação de Copenhague onde se imagina ter um gato preso em uma caixa fechada com um elemento radioativo de núcleo instável que poderá decair e liberar a radiação que seria detectada por um contador Geiger que por sua vez acionaria uma armadilha para liberar veneno matando o gato a qualquer momento. Como o núcleo atômico é regido pelas leis da Mecânica Quântica ele irá possuir iguais probabilidades de decaimento para todos os estados de tempo. Seguindo este princípio enquanto não abrirmos a caixa para verificar se o gato está vivo ou morto ele terá as mesmas probabilidades para os dois estados (vivo e morto) ao mesmo tempo.</p>"
   ]
  },
  {
   "cell_type": "markdown",
   "metadata": {},
   "source": [
    "<h3>O Colapso da Função de Onda</h3>\n",
    "<p align=\"justify\">Ao abrirmos a caixa do gato de Schrödinger teremos o que na Mecânica Quântica chamamos de Colapso da Função de Onda que é a confirmação do estado real ao se realizar a verificação (medição do sistema). Ao realizarmos a verificação/medição constataremos apenas um dos estados dentre todos os possíveis. Ou seja, ao abrirmos a caixa teremos como resposta somente um único estado, vivo ou morto, enquanto não abrirmos o gato estará no que chamamos de estado de <u><b>sobreposição (ou superposição)</b></u> que é a igual probabilidade para todos os estados possíveis.</p>"
   ]
  },
  {
   "cell_type": "markdown",
   "metadata": {},
   "source": [
    "<h3>O Experimento Moderno da Dupla Fenda</h3>\n",
    "<img src=\"onda_particula.jpg\">\n",
    "<p align=\"justify\">Com base no antigo experimento de Thomas Young um novo experimento da dupla fenda foi feito em 1989 quando já se tinha a tecnologia necessária para realizar medições com elétrons lançados um de cada vez, este feito foi conseguido pelo Físico Japonês Akira Tonomura. Tonomura constatou que mesmo disparando os elétrons um de cada vez o padrão de onda se mantinha, o mesmo acontecia ao se lançar um fóton de cada vez. Porém ao se lançar fótons contra os elétrons durante o experimento com o objetivo de observá-los haverá uma perturbação no sistema original que irá colapsar a função de onda do elétron fazendo com que ele passe a se comportar com um padrão de partícula.</p>"
   ]
  },
  {
   "cell_type": "markdown",
   "metadata": {},
   "source": [
    "<h3>Spin</h3>\n",
    "<img src=\"spin.jpg\">\n",
    "<p align=\"justify\">O spin é uma propriedade quântica de partículas subatômicas que em uma analogia clássica seria o equivalente ao sentido de rotação da partícula representando o momento angular da mesma. Podemos por exemplo dizer que o elétron poderá possuir o spin apontando para o norte (Spin Up) ou para o sul (Spin Down).</p>"
   ]
  },
  {
   "cell_type": "markdown",
   "metadata": {},
   "source": [
    "<h3>O Princípio da exclusão de Pauli</h3>\n",
    "<img src=\"wolfgang_pauli.jpg\">\n",
    "<p align=\"justify\">Criado pelo Físico Austríaco Wolfgang Pauli o Princípio da exclusão de Pauli estabelece que partículas quânticas de mesmo orbital (localidade no espaço atômico) não podem possuir spins no mesmo sentindo, caso contrário irão se repelir e essa região entre os dois não poderá ser compartilhada.</p>"
   ]
  },
  {
   "cell_type": "markdown",
   "metadata": {},
   "source": [
    "<h3>Emaranhamento Quântico (ou Entrelaçamento Quântico)</h3>\n",
    "<p align=\"justify\">O emaranhamento quântico é um fenômeno físico que acontece ao se separar partículas subatômicas que compartilhem uma mesma origem. Ao realizarmos a medição do spin de uma das partículas saberemos com certeza que o spin da outra estará no sentido oposto não importando a distância de separação entre elas. Pelo Princípio da exclusão de Pauli sabemos que se essas partículas estavam em um mesmo orbital antes da separação logicamente elas não poderiam possuir spins na mesma direção, com isso fica implícito de que ao constatarmos a posição do spin de uma delas a posição do spin da outra será diametralmente oposto. É importante ressaltar que não há transferência de informação nesse fenômeno mas apenas uma indução do segundo estado ao constatarmos o primeiro. Por não haver transferência de informação Einstein apelidou este fenômeno de Ação Fantasmagórica a Distância.</p>"
   ]
  },
  {
   "cell_type": "markdown",
   "metadata": {},
   "source": [
    "<h3>Tunelamento Quântico</h3>\n",
    "<p align=\"justify\">O tunelamento quântico é um fenômeno físico que acontece quando partículas quânticas atravessam barreiras físicas mesmo sem ter energia cinética o suficiente para isso.</p>"
   ]
  }
 ],
 "metadata": {
  "kernelspec": {
   "display_name": "Python 3.10.4 64-bit",
   "language": "python",
   "name": "python3"
  },
  "language_info": {
   "codemirror_mode": {
    "name": "ipython",
    "version": 3
   },
   "file_extension": ".py",
   "mimetype": "text/x-python",
   "name": "python",
   "nbconvert_exporter": "python",
   "pygments_lexer": "ipython3",
   "version": "3.10.4"
  },
  "orig_nbformat": 4,
  "vscode": {
   "interpreter": {
    "hash": "916dbcbb3f70747c44a77c7bcd40155683ae19c65e1c03b4aa3499c5328201f1"
   }
  }
 },
 "nbformat": 4,
 "nbformat_minor": 2
}
